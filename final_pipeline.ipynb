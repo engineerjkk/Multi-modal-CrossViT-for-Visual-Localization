{
 "cells": [
  {
   "cell_type": "code",
   "execution_count": null,
   "metadata": {},
   "outputs": [],
   "source": [
    "%load_ext autoreload\n",
    "%autoreload 2\n",
    "\n",
    "from pathlib import Path\n",
    "from pprint import pformat\n",
    "\n",
    "from hloc import extract_features, match_features, pairs_from_covisibility, pairs_from_retrieval\n",
    "from hloc import colmap_from_nvm, triangulation, localize_sfm, visualization\n"
   ]
  },
  {
   "cell_type": "code",
   "execution_count": null,
   "metadata": {},
   "outputs": [],
   "source": [
    "dataset = Path('datasets/aachen/')  # change this if your dataset is somewhere else\n",
    "images = dataset / 'images/images_upright/'\n",
    "\n",
    "outputs = Path('outputs/aachen/')  # where everything will be saved\n",
    "sfm_pairs = outputs / 'pairs-db-covis20.txt'  # top 20 most covisible in SIFT model\n",
    "loc_pairs = outputs / 'pairs-query-netvlad100.txt'  # top 20 retrieved by NetVLAD\n",
    "reference_sfm = outputs / 'sfm_superpoint+superglue'  # the SfM model we will build\n",
    "results = outputs / 'Aachen_hloc_superpoint+superglue_netvlad20.txt'  # the result file\n",
    "\n",
    "# list the standard configurations available\n",
    "print(f'Configs for feature extractors:\\n{pformat(extract_features.confs)}')\n",
    "print(f'Configs for feature matchers:\\n{pformat(match_features.confs)}')\n"
   ]
  },
  {
   "cell_type": "code",
   "execution_count": null,
   "metadata": {},
   "outputs": [],
   "source": [
    "retrieval_conf = extract_features.confs['netvlad']\n",
    "feature_conf = extract_features.confs['superpoint_aachen']\n",
    "matcher_conf = match_features.confs['superglue']\n",
    "\n",
    "features = extract_features.main(feature_conf, images, outputs)"
   ]
  },
  {
   "cell_type": "code",
   "execution_count": null,
   "metadata": {},
   "outputs": [],
   "source": [
    "colmap_from_nvm.main(\n",
    "    dataset / '3D-models/aachen_cvpr2018_db.nvm',\n",
    "    dataset / '3D-models/database_intrinsics.txt',\n",
    "    dataset / 'aachen.db',\n",
    "    outputs / 'sfm_sift')"
   ]
  },
  {
   "cell_type": "code",
   "execution_count": null,
   "metadata": {},
   "outputs": [],
   "source": [
    "pairs_from_covisibility.main(\n",
    "    outputs / 'sfm_sift', sfm_pairs, num_matched=20)\n",
    "\n",
    "sfm_matches = match_features.main(matcher_conf, sfm_pairs, feature_conf['output'], outputs)\n"
   ]
  },
  {
   "cell_type": "code",
   "execution_count": null,
   "metadata": {},
   "outputs": [],
   "source": [
    "reconstruction = triangulation.main(\n",
    "    reference_sfm,\n",
    "    outputs / 'sfm_sift',\n",
    "    images,\n",
    "    sfm_pairs,\n",
    "    features,\n",
    "    sfm_matches)"
   ]
  },
  {
   "cell_type": "code",
   "execution_count": null,
   "metadata": {},
   "outputs": [],
   "source": [
    "global_descriptors = extract_features.main(retrieval_conf, images, outputs)\n",
    "pairs_from_retrieval.main(global_descriptors, loc_pairs, num_matched=100, db_prefix=\"db\", query_prefix=\"query\")"
   ]
  },
  {
   "cell_type": "code",
   "execution_count": null,
   "metadata": {},
   "outputs": [],
   "source": [
    "### 내가 만든 Globa descriptor par.\n",
    "loc_pairs = outputs / 'Retrieved_Images.txt'\n",
    "loc_matches = match_features.main(matcher_conf, loc_pairs, feature_conf['output'], outputs)\n"
   ]
  },
  {
   "cell_type": "code",
   "execution_count": null,
   "metadata": {},
   "outputs": [],
   "source": [
    "#loc_pairs = outputs / 'Train_PE_officialCrossViT_Tiny_RT_MultiModal_PosEmbedding2_KnowledgeDistillation_lr00001_best_model1243.txt'\n",
    "results = outputs / 'Pose_Estimation_Results.txt'  # the result file\n",
    "localize_sfm.main(\n",
    "    reconstruction,\n",
    "    dataset / 'queries/*_time_queries_with_intrinsics.txt',\n",
    "    loc_pairs,\n",
    "    features,\n",
    "    loc_matches,\n",
    "    results,\n",
    "    covisibility_clustering=False)  # not required with SuperPoint+SuperGlue\n"
   ]
  }
 ],
 "metadata": {
  "kernelspec": {
   "display_name": "JKK",
   "language": "python",
   "name": "python3"
  },
  "language_info": {
   "name": "python",
   "version": "3.8.0"
  }
 },
 "nbformat": 4,
 "nbformat_minor": 2
}
