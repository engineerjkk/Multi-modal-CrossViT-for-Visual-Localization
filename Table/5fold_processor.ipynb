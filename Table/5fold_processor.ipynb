{
 "cells": [
  {
   "cell_type": "code",
   "execution_count": 1,
   "metadata": {},
   "outputs": [],
   "source": [
    "import numpy as np\n",
    "import pandas as pd\n",
    "import pickle\n",
    "from pathlib import Path\n",
    "from hloc.utils.read_write_model import read_images_binary\n",
    "\n",
    "# Configure paths\n",
    "IMAGES_PATH = '../outputs/aachen/sfm_superpoint+superglue/images.bin'\n",
    "OUTPUT_DIR = Path('../5FoldDataset')\n",
    "OUTPUT_DIR.mkdir(exist_ok=True)\n",
    "\n",
    "# Load images\n",
    "images = read_images_binary(IMAGES_PATH)"
   ]
  },
  {
   "cell_type": "code",
   "execution_count": 2,
   "metadata": {},
   "outputs": [],
   "source": [
    "def load_database():\n",
    "    \"\"\"Load the main database and validation datasets\"\"\"\n",
    "    with open('../DataBase/DataBase_Norm_Tiny.pickle', 'rb') as f:\n",
    "        return pickle.load(f)\n",
    "\n",
    "database = load_database()"
   ]
  },
  {
   "cell_type": "code",
   "execution_count": 3,
   "metadata": {},
   "outputs": [],
   "source": [
    "def create_image_path(key):\n",
    "    \"\"\"Convert image key to path\"\"\"\n",
    "    return images[key].name\n",
    "\n",
    "def process_validation_set(val_data):\n",
    "    \"\"\"Process validation dataset to extract anchor images\"\"\"\n",
    "    anchor_values = []\n",
    "    for item in val_data:\n",
    "        anchor_values.append(item['Anchor'][0])\n",
    "    \n",
    "    return {'Anchor': [create_image_path(val) for val in anchor_values]}\n",
    "\n",
    "def get_ordinal_suffix(fold_number):\n",
    "    \"\"\"Return the correct ordinal suffix for a number\"\"\"\n",
    "    if fold_number == 1:\n",
    "        return \"st\"\n",
    "    elif fold_number == 2:\n",
    "        return \"nd\"\n",
    "    elif fold_number == 3:\n",
    "        return \"rd\"\n",
    "    else:\n",
    "        return \"th\"\n",
    "\n",
    "def save_to_csv(data, fold_number):\n",
    "    \"\"\"Save processed data to CSV file\"\"\"\n",
    "    suffix = get_ordinal_suffix(fold_number)\n",
    "    df = pd.DataFrame(data)\n",
    "    output_path = OUTPUT_DIR / f'anchor_student_{fold_number}{suffix}.csv'\n",
    "    df.to_csv(output_path, index=False)\n",
    "    print(f\"Saved {output_path} with {len(df)} entries\")"
   ]
  },
  {
   "cell_type": "code",
   "execution_count": 4,
   "metadata": {},
   "outputs": [
    {
     "name": "stdout",
     "output_type": "stream",
     "text": [
      "Saved ../5FoldDataset/anchor_student_1st.csv with 868 entries\n",
      "Saved ../5FoldDataset/anchor_student_2nd.csv with 864 entries\n",
      "Saved ../5FoldDataset/anchor_student_3rd.csv with 864 entries\n",
      "Saved ../5FoldDataset/anchor_student_4th.csv with 864 entries\n",
      "Saved ../5FoldDataset/anchor_student_5th.csv with 864 entries\n"
     ]
    }
   ],
   "source": [
    "def process_all_folds():\n",
    "    \"\"\"Process all 5 folds of validation data\"\"\"\n",
    "    # Map fold numbers to their corresponding file names\n",
    "    fold_files = {\n",
    "        1: 'First_Val_Database_5.pkl',\n",
    "        2: 'Second_Val_Database_4.pkl',\n",
    "        3: 'Third_Val_Database_3.pkl',\n",
    "        4: 'Fourth_Val_Database_2.pkl',\n",
    "        5: 'Fifth_Val_Database_1.pkl'\n",
    "    }\n",
    "    \n",
    "    for fold_num, file_name in fold_files.items():\n",
    "        # Load validation data\n",
    "        val_path = OUTPUT_DIR / file_name\n",
    "        try:\n",
    "            with open(val_path, 'rb') as f:\n",
    "                val_data = pickle.load(f)\n",
    "            \n",
    "            # Process and save\n",
    "            anchor_data = process_validation_set(val_data)\n",
    "            save_to_csv(anchor_data, fold_num)\n",
    "            \n",
    "        except FileNotFoundError:\n",
    "            print(f\"Warning: Could not find validation file for fold {fold_num}: {val_path}\")\n",
    "\n",
    "# Execute processing\n",
    "process_all_folds()"
   ]
  },
  {
   "cell_type": "code",
   "execution_count": 5,
   "metadata": {},
   "outputs": [
    {
     "name": "stdout",
     "output_type": "stream",
     "text": [
      "Verification Results:\n",
      "--------------------------------------------------\n",
      "anchor_student_1st.csv: 868 entries\n",
      "anchor_student_2nd.csv: 864 entries\n",
      "anchor_student_3rd.csv: 864 entries\n",
      "anchor_student_4th.csv: 864 entries\n",
      "anchor_student_5th.csv: 864 entries\n",
      "--------------------------------------------------\n"
     ]
    }
   ],
   "source": [
    "def verify_outputs():\n",
    "    \"\"\"Verify that all expected files were created and show their sizes\"\"\"\n",
    "    # 올바른 서수 접미사를 사용하여 파일 이름 생성\n",
    "    expected_files = [f'anchor_student_{i}{get_ordinal_suffix(i)}.csv' for i in range(1, 6)]\n",
    "    \n",
    "    print(\"Verification Results:\")\n",
    "    print(\"-\" * 50)\n",
    "    for file_name in expected_files:\n",
    "        file_path = OUTPUT_DIR / file_name\n",
    "        if file_path.exists():\n",
    "            df = pd.read_csv(file_path)\n",
    "            print(f\"{file_name}: {len(df)} entries\")\n",
    "        else:\n",
    "            print(f\"{file_name}: File not found\")\n",
    "    print(\"-\" * 50)\n",
    "\n",
    "verify_outputs()"
   ]
  },
  {
   "cell_type": "code",
   "execution_count": null,
   "metadata": {},
   "outputs": [],
   "source": []
  },
  {
   "cell_type": "code",
   "execution_count": null,
   "metadata": {},
   "outputs": [],
   "source": []
  }
 ],
 "metadata": {
  "kernelspec": {
   "display_name": "JKK",
   "language": "python",
   "name": "python3"
  },
  "language_info": {
   "codemirror_mode": {
    "name": "ipython",
    "version": 3
   },
   "file_extension": ".py",
   "mimetype": "text/x-python",
   "name": "python",
   "nbconvert_exporter": "python",
   "pygments_lexer": "ipython3",
   "version": "3.8.0"
  }
 },
 "nbformat": 4,
 "nbformat_minor": 2
}
