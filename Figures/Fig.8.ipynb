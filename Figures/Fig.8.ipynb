{
 "cells": [
  {
   "cell_type": "code",
   "execution_count": 2,
   "metadata": {},
   "outputs": [],
   "source": [
    "import numpy as np\n",
    "import pandas as pd\n",
    "import matplotlib.pyplot as plt\n",
    "from tqdm import notebook\n",
    "import tqdm, tqdm.notebook\n",
    "tqdm.tqdm = tqdm.notebook.tqdm  # notebook-friendly progress bars\n",
    "from tqdm import tqdm\n",
    "from hloc.utils.read_write_model import read_images_binary,read_points3D_binary,read_cameras_binary,qvec2rotmat\n",
    "from PIL import Image\n",
    "from scipy.interpolate import griddata\n",
    "import cv2\n",
    "from pathlib import Path\n",
    "import numpy as np\n",
    "import matplotlib.pyplot as plt\n",
    "from scipy.stats import gaussian_kde\n",
    "from mpl_toolkits.mplot3d import Axes3D"
   ]
  },
  {
   "cell_type": "code",
   "execution_count": 3,
   "metadata": {},
   "outputs": [],
   "source": [
    "images_path='/home/cvnar/Spatial_Contrastive_Loss/outputs/aachen/sfm_superpoint+superglue/images.bin'\n",
    "points3Ds_path='/home/cvnar/Spatial_Contrastive_Loss/outputs/aachen/sfm_superpoint+superglue/points3D.bin'\n",
    "caperas_path='/home/cvnar/Spatial_Contrastive_Loss/outputs/aachen/sfm_superpoint+superglue/cameras.bin'\n",
    "images = read_images_binary(images_path)\n",
    "points3Ds = read_points3D_binary(points3Ds_path)\n",
    "cameras = read_cameras_binary(caperas_path)\n",
    "keys=images.keys()"
   ]
  },
  {
   "cell_type": "code",
   "execution_count": 4,
   "metadata": {},
   "outputs": [
    {
     "data": {
      "application/vnd.jupyter.widget-view+json": {
       "model_id": "5c5d9f22a69345c9abb90a0d2adc5e30",
       "version_major": 2,
       "version_minor": 0
      },
      "text/plain": [
       "0it [00:00, ?it/s]"
      ]
     },
     "metadata": {},
     "output_type": "display_data"
    },
    {
     "ename": "",
     "evalue": "",
     "output_type": "error",
     "traceback": [
      "\u001b[1;31mThe Kernel crashed while executing code in the the current cell or a previous cell. Please review the code in the cell(s) to identify a possible cause of the failure. Click <a href='https://aka.ms/vscodeJupyterKernelCrash'>here</a> for more info. View Jupyter <a href='command:jupyter.viewOutput'>log</a> for further details."
     ]
    }
   ],
   "source": [
    "TotalPoints=[]\n",
    "for i, value in tqdm(enumerate(keys)):\n",
    "    pointsID=images[value].point3D_ids\n",
    "    for j in pointsID:\n",
    "        if(j == -1):\n",
    "            continue\n",
    "        else:\n",
    "            aPoint=[]\n",
    "            aPoint.append(points3Ds[j].xyz[0])\n",
    "            aPoint.append(points3Ds[j].xyz[2])\n",
    "            TotalPoints.append(aPoint)"
   ]
  },
  {
   "cell_type": "code",
   "execution_count": null,
   "metadata": {},
   "outputs": [
    {
     "ename": "NameError",
     "evalue": "name 'np' is not defined",
     "output_type": "error",
     "traceback": [
      "\u001b[0;31m---------------------------------------------------------------------------\u001b[0m",
      "\u001b[0;31mNameError\u001b[0m                                 Traceback (most recent call last)",
      "\u001b[1;32m/home/cvnar/Spatial_Contrastive_Loss/Figures/Fig8.ipynb Cell 4\u001b[0m line \u001b[0;36m1\n\u001b[0;32m----> <a href='vscode-notebook-cell:/home/cvnar/Spatial_Contrastive_Loss/Figures/Fig8.ipynb#W4sZmlsZQ%3D%3D?line=0'>1</a>\u001b[0m points \u001b[39m=\u001b[39m np\u001b[39m.\u001b[39marray(TotalPoints)\n\u001b[1;32m      <a href='vscode-notebook-cell:/home/cvnar/Spatial_Contrastive_Loss/Figures/Fig8.ipynb#W4sZmlsZQ%3D%3D?line=1'>2</a>\u001b[0m x_min, x_max, y_min, y_max \u001b[39m=\u001b[39m \u001b[39m700\u001b[39m, \u001b[39m1000\u001b[39m, \u001b[39m-\u001b[39m\u001b[39m250\u001b[39m, \u001b[39m50\u001b[39m\n\u001b[1;32m      <a href='vscode-notebook-cell:/home/cvnar/Spatial_Contrastive_Loss/Figures/Fig8.ipynb#W4sZmlsZQ%3D%3D?line=2'>3</a>\u001b[0m x_grid, y_grid \u001b[39m=\u001b[39m np\u001b[39m.\u001b[39mmeshgrid(np\u001b[39m.\u001b[39mlinspace(x_min, x_max, \u001b[39m100\u001b[39m), np\u001b[39m.\u001b[39mlinspace(y_min, y_max, \u001b[39m100\u001b[39m))\n",
      "\u001b[0;31mNameError\u001b[0m: name 'np' is not defined"
     ]
    }
   ],
   "source": [
    "points = np.array(TotalPoints)\n",
    "x_min, x_max, y_min, y_max = 700, 1000, -250, 50\n",
    "x_grid, y_grid = np.meshgrid(np.linspace(x_min, x_max, 100), np.linspace(y_min, y_max, 100))\n",
    "kde = gaussian_kde(points.T)\n",
    "# 그리드 위의 KDE 평가\n",
    "z_grid = kde(np.vstack([x_grid.ravel(), y_grid.ravel()]))\n",
    "z_grid = np.reshape(z_grid, x_grid.shape)\n",
    "\n",
    "# z 값 스케일 조정 (선택적)\n",
    "scale_factor = 10  # 스케일 인자를 조정하여 z 축의 높이 변경\n",
    "z_grid_scaled = z_grid * scale_factor\n",
    "\n",
    "# 3D 시각화\n",
    "fig = plt.figure(figsize=(10, 7))\n",
    "ax = fig.add_subplot(111, projection='3d')\n",
    "\n",
    "# 3D 표면 플롯 (조정된 z 값 사용)\n",
    "surf = ax.plot_surface(x_grid, y_grid, z_grid_scaled, cmap='viridis', edgecolor='none')\n",
    "\n",
    "# 축 범위 설정\n",
    "ax.set_xlim(700, 1000)\n",
    "ax.set_ylim(-250, 50)\n",
    "\n",
    "# 축 레이블 및 타이틀 설정\n",
    "ax.set_xlabel('X')\n",
    "ax.set_ylabel('Y')\n",
    "ax.set_zlabel('Scaled Density')\n",
    "ax.set_title('3D Visualization of 2D Coordinates Normal Distribution (Scaled)')\n",
    "\n",
    "# 컬러바 추가\n",
    "fig.colorbar(surf, shrink=0.5, aspect=5, label='Scaled Density')\n",
    "\n",
    "plt.show()"
   ]
  },
  {
   "cell_type": "code",
   "execution_count": null,
   "metadata": {},
   "outputs": [],
   "source": [
    "#이거\n",
    "import numpy as np\n",
    "import matplotlib.pyplot as plt\n",
    "from mpl_toolkits.mplot3d import Axes3D\n",
    "\n",
    "\n",
    "x_min, x_max, y_min, y_max = 700, 1000, -250, 50\n",
    "x_bins = y_bins = 15  # Number of bins along each axis\n",
    "\n",
    "# Calculate histogram\n",
    "hist, xedges, yedges = np.histogram2d(points[:,0], points[:,1], bins=(x_bins, y_bins), range=[[x_min, x_max], [y_min, y_max]])\n",
    "\n",
    "# Create grid for bar positions\n",
    "xpos, ypos = np.meshgrid(xedges[:-1] + (xedges[1]-xedges[0])/2, yedges[:-1] + (yedges[1]-yedges[0])/2)\n",
    "xpos = xpos.flatten('F')\n",
    "ypos = ypos.flatten('F')\n",
    "zpos = np.zeros_like(xpos)\n",
    "\n",
    "# Bar sizes\n",
    "dx = dy = np.ones_like(zpos) * (xedges[1] - xedges[0])\n",
    "dz = hist.flatten()\n",
    "\n",
    "# Plot\n",
    "fig = plt.figure(figsize=(10, 7))\n",
    "ax = fig.add_subplot(111, projection='3d')\n",
    "\n",
    "# Normalize the dz values to get the color index\n",
    "norm = plt.Normalize(dz.min(), dz.max())\n",
    "#colors = plt.cm.viridis(norm(dz))\n",
    "colors = plt.cm.cool(norm(dz)) \n",
    "\n",
    "# Plot bars with colors\n",
    "ax.bar3d(xpos, ypos, zpos, dx, dy, dz, color=colors, zsort='average')\n",
    "\n",
    "# Adding color bar\n",
    "cbar = fig.colorbar(plt.cm.ScalarMappable(norm=norm, cmap='cool'), shrink=0.5, aspect=5)\n",
    "cbar.set_label('Frequency')\n",
    "\n",
    "# Labels & title\n",
    "ax.set_xlabel('X')\n",
    "ax.set_ylabel('Y')\n",
    "ax.set_zlabel('Frequency')\n",
    "ax.set_title('3D Cumulative Distribution Histogram with Color Scale')\n",
    "\n",
    "plt.show()\n"
   ]
  }
 ],
 "metadata": {
  "kernelspec": {
   "display_name": "JKK",
   "language": "python",
   "name": "python3"
  },
  "language_info": {
   "codemirror_mode": {
    "name": "ipython",
    "version": 3
   },
   "file_extension": ".py",
   "mimetype": "text/x-python",
   "name": "python",
   "nbconvert_exporter": "python",
   "pygments_lexer": "ipython3",
   "version": "3.8.0"
  }
 },
 "nbformat": 4,
 "nbformat_minor": 2
}
